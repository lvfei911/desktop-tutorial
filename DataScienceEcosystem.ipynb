{
 "cells": [
  {
   "cell_type": "markdown",
   "id": "4d6664ce-8ad2-4af9-94ca-76f403b4882f",
   "metadata": {},
   "source": [
    "# Data Science Tools and Ecosystem"
   ]
  },
  {
   "cell_type": "markdown",
   "id": "08c997ef-16e8-4c3c-bd81-5c8533557787",
   "metadata": {},
   "source": [
    "In this notebook, Data Science Tools and Ecosystem are summarized."
   ]
  },
  {
   "cell_type": "markdown",
   "id": "618d8bb4-596a-4ae0-9b24-a68f22515abc",
   "metadata": {},
   "source": [
    "**Objectives:**\n",
    "- List Data Science Languages\n",
    "- List Data Science Libraries\n",
    "- Create a Table of Data Science Tools\n",
    "- Convert Minutes to Hours"
   ]
  },
  {
   "cell_type": "markdown",
   "id": "e92ac10a-2102-477c-87f3-102963ffa437",
   "metadata": {},
   "source": [
    "Some of the popular languages that Data Scientists use are:\n",
    "\n",
    "1. Python\n",
    "2. R\n",
    "3. SQL"
   ]
  },
  {
   "cell_type": "code",
   "execution_count": null,
   "id": "82ad6708-5754-422c-8d6b-8242a244c16b",
   "metadata": {},
   "outputs": [],
   "source": [
    "Some of the commonly used libraries used by Data Scientists include:\n",
    "    \n",
    "1. Numpy\n",
    "2. Pandas\n",
    "3. Matplotlib\n",
    "4. Seaborn\n",
    "5. Scikit-learn"
   ]
  },
  {
   "cell_type": "markdown",
   "id": "db4d7ac3-6eb0-4c89-983d-b64fa26d0c38",
   "metadata": {},
   "source": [
    "| Data Science Tools|\n",
    "| --- |\n",
    "| Jupyter Notebook |\n",
    "| Visio Studio Code |\n",
    "| Spyder |"
   ]
  },
  {
   "cell_type": "markdown",
   "id": "decee870-2811-4cbe-8bd9-394cdc50f700",
   "metadata": {},
   "source": [
    "### Below are a few examples of evaluating arithmetic expressions in Python"
   ]
  },
  {
   "cell_type": "code",
   "execution_count": 1,
   "id": "d2afc4d9-baec-4faf-bd56-db4f92aa3a33",
   "metadata": {},
   "outputs": [
    {
     "data": {
      "text/plain": [
       "17"
      ]
     },
     "execution_count": 1,
     "metadata": {},
     "output_type": "execute_result"
    }
   ],
   "source": [
    "# This a simple arithmetic expression to mutiply then add integers\n",
    "\n",
    "(3*4)+5"
   ]
  },
  {
   "cell_type": "code",
   "execution_count": 7,
   "id": "63f9069d-bb90-404c-b695-fec88467bc35",
   "metadata": {},
   "outputs": [
    {
     "name": "stdout",
     "output_type": "stream",
     "text": [
      "200 minutes equals 3.3333333333333335 hours.\n"
     ]
    }
   ],
   "source": [
    "# This will convert 200 minutes to hours by diving by 60\n",
    "\n",
    "m = 200\n",
    "h = m/60\n",
    "\n",
    "print(str(m) + ' minutes equals ' + str(h) + ' hours.')"
   ]
  },
  {
   "cell_type": "markdown",
   "id": "84eda646-d60e-4097-83f1-75648f648b5c",
   "metadata": {},
   "source": [
    "## Author\n",
    "Fei Lyu"
   ]
  },
  {
   "cell_type": "code",
   "execution_count": null,
   "id": "f5094941-93d2-47e5-99a9-2dee5876e6c3",
   "metadata": {},
   "outputs": [],
   "source": []
  }
 ],
 "metadata": {
  "kernelspec": {
   "display_name": "Python 3 (ipykernel)",
   "language": "python",
   "name": "python3"
  },
  "language_info": {
   "codemirror_mode": {
    "name": "ipython",
    "version": 3
   },
   "file_extension": ".py",
   "mimetype": "text/x-python",
   "name": "python",
   "nbconvert_exporter": "python",
   "pygments_lexer": "ipython3",
   "version": "3.9.12"
  }
 },
 "nbformat": 4,
 "nbformat_minor": 5
}
